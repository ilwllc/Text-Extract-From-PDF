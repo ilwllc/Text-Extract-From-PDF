{
 "cells": [
  {
   "cell_type": "markdown",
   "metadata": {},
   "source": [
    "### License agreement, Illumination Works. LLC."
   ]
  },
  {
   "cell_type": "raw",
   "metadata": {},
   "source": [
    "#@title Licensed under the Apache License, Version 2.0 (the \"License\");\n",
    "# you may not use this file except in compliance with the License.\n",
    "# You may obtain a copy of the License at\n",
    "#\n",
    "# https://www.apache.org/licenses/LICENSE-2.0\n",
    "#\n",
    "# Unless required by applicable law or agreed to in writing, software\n",
    "# distributed under the License is distributed on an \"AS IS\" BASIS,\n",
    "# WITHOUT WARRANTIES OR CONDITIONS OF ANY KIND, either express or implied.\n",
    "# See the License for the specific language governing permissions and\n",
    "# limitations under the License."
   ]
  },
  {
   "cell_type": "markdown",
   "metadata": {},
   "source": [
    "# Table extraction from native PDF\n",
    "This tutorial contains complete code to ....\n",
    "\n",
    "In this notebook, you will:\n",
    "\n",
    "* Learn how to read a pdf using python libraries\n",
    "* Format the content into a table using a series of steps that use outlier detection, clustering, ngrams, and pandas grouping\n",
    "\n",
    "### Required libraries\n",
    "* Pandas\n",
    "* Numpy\n",
    "* Fitz. Install with pip using the command *pip install pymupdf*\n",
    "* NLTK. Install with pip using the command *pip install nltk*\n",
    "* scikit learn. Install with pip using the command *pip install scikit-learn*\n",
    "\n",
    "\n",
    "### Custom library - pdf_tables\n",
    "This jupyter notebook is accompanied by a python script, ***pdf_library.py*** that contains the functions to process the contents of the PDF document. \n"
   ]
  },
  {
   "cell_type": "markdown",
   "metadata": {},
   "source": [
    "## Setup"
   ]
  },
  {
   "cell_type": "code",
   "execution_count": null,
   "metadata": {},
   "outputs": [],
   "source": [
    "import itertools\n",
    "import numpy as np\n",
    "import os\n",
    "import pandas as pd\n",
    "\n",
    "import fitz\n",
    "\n",
    "import pdf_tables as pdf"
   ]
  },
  {
   "cell_type": "code",
   "execution_count": null,
   "metadata": {},
   "outputs": [],
   "source": [
    "from IPython.core.interactiveshell import InteractiveShell\n",
    "InteractiveShell.ast_node_interactivity = \"all\"\n",
    "\n",
    "pd.options.display.float_format = '{:.2f}'.format\n",
    "pd.options.display.width = 600\n",
    "pd.options.display.max_colwidth = 300\n",
    "pd.options.display.max_columns = 10"
   ]
  },
  {
   "cell_type": "markdown",
   "metadata": {},
   "source": [
    "## PDF location"
   ]
  },
  {
   "cell_type": "code",
   "execution_count": null,
   "metadata": {},
   "outputs": [],
   "source": [
    "data_dir = os.path.join('..', 'data')\n",
    "pdf_file_location = os.path.join(data_dir,  'Aircraft database sample.pdf')"
   ]
  },
  {
   "cell_type": "markdown",
   "metadata": {},
   "source": [
    "# Step 1: Get text and positional INFORMATION"
   ]
  },
  {
   "cell_type": "code",
   "execution_count": null,
   "metadata": {},
   "outputs": [],
   "source": [
    "pdf_handle = fitz.open(pdf_file_location)\n",
    "\n",
    "page_elements = pdf.get_page_elements(pdf_handle, page_num=0)\n",
    "pd.concat([page_elements.head(5), page_elements.tail(5)])\n",
    "pdf_handle.close()"
   ]
  },
  {
   "cell_type": "markdown",
   "metadata": {},
   "source": [
    "## Step 2: REMOVE unrelated text\n",
    "\n",
    "\n",
    "## Step 3: Build table by GROUPING on X and Y axis"
   ]
  },
  {
   "cell_type": "code",
   "execution_count": null,
   "metadata": {},
   "outputs": [],
   "source": [
    "outlier_props = {'outlier_range': 1.6}\n",
    "cluster_props = ({'eps': 11, 'min_samples': 1, 'metric': 'manhattan'}\n",
    "                 , {'eps': 0.5, 'min_samples': 1, 'metric': 'manhattan'}\n",
    "                )\n",
    "\n",
    "clustered_table, cluster_details = pdf.get_table_via_clustering(data=page_elements\n",
    "                                                                , remove_outliers=True\n",
    "                                                                , outlierprops=outlier_props\n",
    "                                                                , cluster_data_columns=[['x_avg'], ['y_avg']]\n",
    "                                                                , clusterprops=cluster_props\n",
    "                                                               )\n",
    "pd.concat([clustered_table.head(5), clustered_table.tail(5)])"
   ]
  },
  {
   "cell_type": "markdown",
   "metadata": {},
   "source": [
    "## Step 4: Find table HEADERS"
   ]
  },
  {
   "cell_type": "code",
   "execution_count": null,
   "metadata": {},
   "outputs": [],
   "source": [
    "table_with_headers = pdf.get_page_headers(data=clustered_table, header_row_detector='Model Full Name')\n",
    "table_with_headers.head(5)"
   ]
  },
  {
   "cell_type": "markdown",
   "metadata": {},
   "source": [
    "## Step 5: CONSOLIDATE rows"
   ]
  },
  {
   "cell_type": "code",
   "execution_count": null,
   "metadata": {},
   "outputs": [],
   "source": [
    "clean_complete_table = pdf.group_rows(data=table_with_headers, row_grouper_columns=['ID'])"
   ]
  },
  {
   "cell_type": "markdown",
   "metadata": {},
   "source": [
    "## Finally: Review output"
   ]
  },
  {
   "cell_type": "code",
   "execution_count": null,
   "metadata": {},
   "outputs": [],
   "source": [
    "clean_complete_table"
   ]
  },
  {
   "cell_type": "markdown",
   "metadata": {},
   "source": [
    "*****************************************************************************************************"
   ]
  }
 ],
 "metadata": {
  "kernelspec": {
   "display_name": "Python [conda env:ilwds_vlog] *",
   "language": "python",
   "name": "conda-env-ilwds_vlog-py"
  },
  "language_info": {
   "codemirror_mode": {
    "name": "ipython",
    "version": 3
   },
   "file_extension": ".py",
   "mimetype": "text/x-python",
   "name": "python",
   "nbconvert_exporter": "python",
   "pygments_lexer": "ipython3",
   "version": "3.8.5"
  }
 },
 "nbformat": 4,
 "nbformat_minor": 4
}
